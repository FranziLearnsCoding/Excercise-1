{
 "cells": [
  {
   "cell_type": "code",
   "execution_count": 15,
   "id": "dc67144f-1cc7-4ec0-9726-e0ea2e5677c4",
   "metadata": {},
   "outputs": [],
   "source": [
    "ice_cream_rating = 7.0\n",
    "sleeping_rating = 10.0"
   ]
  },
  {
   "cell_type": "code",
   "execution_count": 30,
   "id": "a810bd92-be8e-409d-95a7-badc6917612d",
   "metadata": {},
   "outputs": [
    {
     "name": "stdin",
     "output_type": "stream",
     "text": [
      "What is your first name? Franziska\n",
      "What is your last name? Berktold\n"
     ]
    },
    {
     "name": "stdout",
     "output_type": "stream",
     "text": [
      "Franziska Berktold\n"
     ]
    }
   ],
   "source": [
    "first_name = input(\"What is your first name?\")\n",
    "last_name = input(\"What is your last name?\")\n",
    "my_name = print(first_name , last_name)\n",
    "                   "
   ]
  },
  {
   "cell_type": "code",
   "execution_count": 41,
   "id": "ab12eab1-c3f1-4172-bed1-af77aa2a4941",
   "metadata": {},
   "outputs": [
    {
     "name": "stdout",
     "output_type": "stream",
     "text": [
      "7.0\n"
     ]
    }
   ],
   "source": [
    "happiness_rating = (ice_cream_rating * sleeping_rating) /10\n",
    "print (happiness_rating)"
   ]
  },
  {
   "cell_type": "code",
   "execution_count": 18,
   "id": "d8508acb-bf71-4835-bf0d-29f09ffe2a57",
   "metadata": {},
   "outputs": [
    {
     "data": {
      "text/plain": [
       "float"
      ]
     },
     "execution_count": 18,
     "metadata": {},
     "output_type": "execute_result"
    }
   ],
   "source": [
    "type(ice_cream_rating)"
   ]
  },
  {
   "cell_type": "code",
   "execution_count": 19,
   "id": "de9520c3-5b2e-490f-ba17-6ab8e9d01537",
   "metadata": {},
   "outputs": [
    {
     "data": {
      "text/plain": [
       "float"
      ]
     },
     "execution_count": 19,
     "metadata": {},
     "output_type": "execute_result"
    }
   ],
   "source": [
    "type(sleeping_rating)"
   ]
  },
  {
   "cell_type": "code",
   "execution_count": 20,
   "id": "00fadb2c-023a-428d-b8bb-7916e0d99279",
   "metadata": {},
   "outputs": [
    {
     "data": {
      "text/plain": [
       "float"
      ]
     },
     "execution_count": 20,
     "metadata": {},
     "output_type": "execute_result"
    }
   ],
   "source": [
    "type(happiness_rating)"
   ]
  },
  {
   "cell_type": "code",
   "execution_count": 40,
   "id": "45e8ad06-1c32-4492-8fdb-cb1ecd5b1bfd",
   "metadata": {},
   "outputs": [
    {
     "name": "stdout",
     "output_type": "stream",
     "text": [
      "<class 'float'> <class 'float'> <class 'float'>\n"
     ]
    }
   ],
   "source": [
    "print(type(ice_cream_rating), type(sleeping_rating), type(hapiness_rating))"
   ]
  },
  {
   "cell_type": "markdown",
   "id": "9acdc250-e0ba-4058-b3eb-3a275a98a1fe",
   "metadata": {},
   "source": [
    "#All data types made sense but it would be easier to gave them as  int data type.\n",
    "#Change float to int."
   ]
  },
  {
   "cell_type": "code",
   "execution_count": 54,
   "id": "9b0e8b2b-5578-4252-9375-09dac3a21546",
   "metadata": {},
   "outputs": [],
   "source": [
    "import math\n",
    "ice_cream_rating = int(ice_cream_rating)\n",
    "sleeping_rating = int(sleeping_rating)\n",
    "happiness_rating = int(happiness_rating)"
   ]
  },
  {
   "cell_type": "code",
   "execution_count": 53,
   "id": "fc00dc14-3e79-4b02-92cc-0e5c1169afc4",
   "metadata": {},
   "outputs": [
    {
     "name": "stdout",
     "output_type": "stream",
     "text": [
      "My name is Franziska and I give eating ice cream a score of 7 out of 10!\n",
      "I am Franziska Berktold and my sleeping enjoyment rating is 10 / 10!\n",
      "Based on the factors above, my happiness rating is 7 out of 10, or 70.0 %!\n"
     ]
    }
   ],
   "source": [
    "happiness_in_percent = hapiness_rating *10.0\n",
    "print(\"My name is\", first_name, \"and I give eating ice cream a score of\", ice_cream_rating, \"out of 10!\")\n",
    "print(\"I am\", first_name , last_name, \"and my sleeping enjoyment rating is\", sleeping_rating, \"/ 10!\")\n",
    "print(\"Based on the factors above, my happiness rating is\", happiness_rating, \"out of 10, or\", happiness_in_percent,\"%!\")"
   ]
  }
 ],
 "metadata": {
  "kernelspec": {
   "display_name": "Python 3 (ipykernel)",
   "language": "python",
   "name": "python3"
  },
  "language_info": {
   "codemirror_mode": {
    "name": "ipython",
    "version": 3
   },
   "file_extension": ".py",
   "mimetype": "text/x-python",
   "name": "python",
   "nbconvert_exporter": "python",
   "pygments_lexer": "ipython3",
   "version": "3.10.6"
  }
 },
 "nbformat": 4,
 "nbformat_minor": 5
}
